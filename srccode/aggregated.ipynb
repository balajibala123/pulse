{
 "cells": [
  {
   "cell_type": "code",
   "execution_count": null,
   "metadata": {},
   "outputs": [],
   "source": [
    "from pathlib import Path\n",
    "import pandas as pd\n",
    "import json\n",
    "import datetime"
   ]
  },
  {
   "cell_type": "markdown",
   "metadata": {},
   "source": [
    "# Aggregated Data Transactions"
   ]
  },
  {
   "cell_type": "code",
   "execution_count": null,
   "metadata": {},
   "outputs": [],
   "source": [
    "def Data_Transactions():\n",
    "    root_dir = Path(\"../data/aggregated/transaction/country/india/state/\")\n",
    "    lis = []\n",
    "    # rglob is recursive glob - which means searching files recursiverly inside the files and folders\n",
    "    for i in root_dir.rglob(f\"*.json\"):\n",
    "        with open(i, 'r') as file:\n",
    "            content = file.read()\n",
    "            dataset = json.loads(content)\n",
    "\n",
    "            # i will have exact path from that <.parent> is going one step behind and <.name> is getting that subdirectory name\n",
    "            state_name = i.parent.parent.name\n",
    "            year = i.parent.name\n",
    "\n",
    "            # to get the filename 1.json,2.json, 3.json and 4.json \n",
    "            quarter = i.stem\n",
    "            # to change 1.json to Q1, 2.json to Q2 etc\n",
    "            quarter = f'Q{quarter}'\n",
    "\n",
    "            lis.append({'quarter':quarter,'year':year,'state':state_name,'data':dataset})\n",
    "\n",
    "    # print(lis)\n",
    "\n",
    "    lis2=[]\n",
    "    for j in lis:\n",
    "        \n",
    "        for k in j['data']['data']['transactionData']:\n",
    "            # I'm doing conversion rounding to two decimal point\n",
    "            amount_value = k['paymentInstruments'][0]['amount']\n",
    "            amount_formatted = f'{amount_value: .2f}'\n",
    "\n",
    "            timestamp_milliseconds = j['data']['responseTimestamp']\n",
    "            timestamp_seconds = timestamp_milliseconds /1000\n",
    "            datetime_obj = datetime.datetime.fromtimestamp(timestamp_seconds)\n",
    "            formatted_timestamp = datetime_obj.strftime('%Y-%m-%d %H:%M:%S')\n",
    "\n",
    "            \n",
    "            data = dict(quarter = j['quarter'],\n",
    "                        year = j['year'],\n",
    "                        state = j['state'],\n",
    "                        name = k['name'],\n",
    "                        type = k['paymentInstruments'][0]['type'],\n",
    "                        count = k['paymentInstruments'][0]['count'],\n",
    "                        amount = amount_formatted,\n",
    "                        timestamp = formatted_timestamp)\n",
    "            lis2.append(data)\n",
    "\n",
    "    return lis2\n",
    "    "
   ]
  },
  {
   "cell_type": "code",
   "execution_count": 128,
   "metadata": {},
   "outputs": [
    {
     "data": {
      "text/html": [
       "<div>\n",
       "<style scoped>\n",
       "    .dataframe tbody tr th:only-of-type {\n",
       "        vertical-align: middle;\n",
       "    }\n",
       "\n",
       "    .dataframe tbody tr th {\n",
       "        vertical-align: top;\n",
       "    }\n",
       "\n",
       "    .dataframe thead th {\n",
       "        text-align: right;\n",
       "    }\n",
       "</style>\n",
       "<table border=\"1\" class=\"dataframe\">\n",
       "  <thead>\n",
       "    <tr style=\"text-align: right;\">\n",
       "      <th></th>\n",
       "      <th>quarter</th>\n",
       "      <th>year</th>\n",
       "      <th>state</th>\n",
       "      <th>name</th>\n",
       "      <th>type</th>\n",
       "      <th>count</th>\n",
       "      <th>amount</th>\n",
       "      <th>timestamp</th>\n",
       "    </tr>\n",
       "  </thead>\n",
       "  <tbody>\n",
       "    <tr>\n",
       "      <th>0</th>\n",
       "      <td>Q1</td>\n",
       "      <td>2018</td>\n",
       "      <td>andaman-&amp;-nicobar-islands</td>\n",
       "      <td>Recharge &amp; bill payments</td>\n",
       "      <td>TOTAL</td>\n",
       "      <td>4200</td>\n",
       "      <td>1.845307e+06</td>\n",
       "      <td>2021-09-01 18:34:47</td>\n",
       "    </tr>\n",
       "    <tr>\n",
       "      <th>1</th>\n",
       "      <td>Q1</td>\n",
       "      <td>2018</td>\n",
       "      <td>andaman-&amp;-nicobar-islands</td>\n",
       "      <td>Peer-to-peer payments</td>\n",
       "      <td>TOTAL</td>\n",
       "      <td>1871</td>\n",
       "      <td>1.213866e+07</td>\n",
       "      <td>2021-09-01 18:34:47</td>\n",
       "    </tr>\n",
       "    <tr>\n",
       "      <th>2</th>\n",
       "      <td>Q1</td>\n",
       "      <td>2018</td>\n",
       "      <td>andaman-&amp;-nicobar-islands</td>\n",
       "      <td>Merchant payments</td>\n",
       "      <td>TOTAL</td>\n",
       "      <td>298</td>\n",
       "      <td>4.525072e+05</td>\n",
       "      <td>2021-09-01 18:34:47</td>\n",
       "    </tr>\n",
       "    <tr>\n",
       "      <th>3</th>\n",
       "      <td>Q1</td>\n",
       "      <td>2018</td>\n",
       "      <td>andaman-&amp;-nicobar-islands</td>\n",
       "      <td>Financial Services</td>\n",
       "      <td>TOTAL</td>\n",
       "      <td>33</td>\n",
       "      <td>1.060142e+04</td>\n",
       "      <td>2021-09-01 18:34:47</td>\n",
       "    </tr>\n",
       "    <tr>\n",
       "      <th>4</th>\n",
       "      <td>Q1</td>\n",
       "      <td>2018</td>\n",
       "      <td>andaman-&amp;-nicobar-islands</td>\n",
       "      <td>Others</td>\n",
       "      <td>TOTAL</td>\n",
       "      <td>256</td>\n",
       "      <td>1.846899e+05</td>\n",
       "      <td>2021-09-01 18:34:47</td>\n",
       "    </tr>\n",
       "    <tr>\n",
       "      <th>...</th>\n",
       "      <td>...</td>\n",
       "      <td>...</td>\n",
       "      <td>...</td>\n",
       "      <td>...</td>\n",
       "      <td>...</td>\n",
       "      <td>...</td>\n",
       "      <td>...</td>\n",
       "      <td>...</td>\n",
       "    </tr>\n",
       "    <tr>\n",
       "      <th>3949</th>\n",
       "      <td>Q2</td>\n",
       "      <td>2023</td>\n",
       "      <td>west-bengal</td>\n",
       "      <td>Merchant payments</td>\n",
       "      <td>TOTAL</td>\n",
       "      <td>245111000</td>\n",
       "      <td>1.767046e+11</td>\n",
       "      <td>2023-08-21 17:30:57</td>\n",
       "    </tr>\n",
       "    <tr>\n",
       "      <th>3950</th>\n",
       "      <td>Q2</td>\n",
       "      <td>2023</td>\n",
       "      <td>west-bengal</td>\n",
       "      <td>Peer-to-peer payments</td>\n",
       "      <td>TOTAL</td>\n",
       "      <td>240347041</td>\n",
       "      <td>7.970548e+11</td>\n",
       "      <td>2023-08-21 17:30:57</td>\n",
       "    </tr>\n",
       "    <tr>\n",
       "      <th>3951</th>\n",
       "      <td>Q2</td>\n",
       "      <td>2023</td>\n",
       "      <td>west-bengal</td>\n",
       "      <td>Recharge &amp; bill payments</td>\n",
       "      <td>TOTAL</td>\n",
       "      <td>58950434</td>\n",
       "      <td>3.478924e+10</td>\n",
       "      <td>2023-08-21 17:30:57</td>\n",
       "    </tr>\n",
       "    <tr>\n",
       "      <th>3952</th>\n",
       "      <td>Q2</td>\n",
       "      <td>2023</td>\n",
       "      <td>west-bengal</td>\n",
       "      <td>Financial Services</td>\n",
       "      <td>TOTAL</td>\n",
       "      <td>327537</td>\n",
       "      <td>3.174670e+08</td>\n",
       "      <td>2023-08-21 17:30:57</td>\n",
       "    </tr>\n",
       "    <tr>\n",
       "      <th>3953</th>\n",
       "      <td>Q2</td>\n",
       "      <td>2023</td>\n",
       "      <td>west-bengal</td>\n",
       "      <td>Others</td>\n",
       "      <td>TOTAL</td>\n",
       "      <td>581674</td>\n",
       "      <td>4.489893e+08</td>\n",
       "      <td>2023-08-21 17:30:57</td>\n",
       "    </tr>\n",
       "  </tbody>\n",
       "</table>\n",
       "<p>3954 rows × 8 columns</p>\n",
       "</div>"
      ],
      "text/plain": [
       "     quarter  year                      state                      name  \\\n",
       "0         Q1  2018  andaman-&-nicobar-islands  Recharge & bill payments   \n",
       "1         Q1  2018  andaman-&-nicobar-islands     Peer-to-peer payments   \n",
       "2         Q1  2018  andaman-&-nicobar-islands         Merchant payments   \n",
       "3         Q1  2018  andaman-&-nicobar-islands        Financial Services   \n",
       "4         Q1  2018  andaman-&-nicobar-islands                    Others   \n",
       "...      ...   ...                        ...                       ...   \n",
       "3949      Q2  2023                west-bengal         Merchant payments   \n",
       "3950      Q2  2023                west-bengal     Peer-to-peer payments   \n",
       "3951      Q2  2023                west-bengal  Recharge & bill payments   \n",
       "3952      Q2  2023                west-bengal        Financial Services   \n",
       "3953      Q2  2023                west-bengal                    Others   \n",
       "\n",
       "       type      count        amount            timestamp  \n",
       "0     TOTAL       4200  1.845307e+06  2021-09-01 18:34:47  \n",
       "1     TOTAL       1871  1.213866e+07  2021-09-01 18:34:47  \n",
       "2     TOTAL        298  4.525072e+05  2021-09-01 18:34:47  \n",
       "3     TOTAL         33  1.060142e+04  2021-09-01 18:34:47  \n",
       "4     TOTAL        256  1.846899e+05  2021-09-01 18:34:47  \n",
       "...     ...        ...           ...                  ...  \n",
       "3949  TOTAL  245111000  1.767046e+11  2023-08-21 17:30:57  \n",
       "3950  TOTAL  240347041  7.970548e+11  2023-08-21 17:30:57  \n",
       "3951  TOTAL   58950434  3.478924e+10  2023-08-21 17:30:57  \n",
       "3952  TOTAL     327537  3.174670e+08  2023-08-21 17:30:57  \n",
       "3953  TOTAL     581674  4.489893e+08  2023-08-21 17:30:57  \n",
       "\n",
       "[3954 rows x 8 columns]"
      ]
     },
     "execution_count": 128,
     "metadata": {},
     "output_type": "execute_result"
    }
   ],
   "source": [
    "dataTransaction = pd.DataFrame(Data_Transactions())\n",
    "dataTransaction['year'] = dataTransaction['year'].astype(int)\n",
    "dataTransaction['amount'] = dataTransaction['amount'].astype(float)\n",
    "dataTransaction"
   ]
  },
  {
   "cell_type": "code",
   "execution_count": null,
   "metadata": {},
   "outputs": [],
   "source": [
    "import mysql.connector\n",
    "from tabulate import tabulate"
   ]
  },
  {
   "cell_type": "code",
   "execution_count": 113,
   "metadata": {},
   "outputs": [],
   "source": [
    "db = mysql.connector.connect(\n",
    "    host ='localhost',\n",
    "    user = 'root',\n",
    "    password ='balaji',\n",
    "    database = 'pulse'\n",
    ")\n",
    "\n",
    "mycursor = db.cursor(buffered=True)\n",
    "mycursor\n",
    "db.commit()"
   ]
  },
  {
   "cell_type": "code",
   "execution_count": null,
   "metadata": {},
   "outputs": [],
   "source": [
    "mycursor.execute(\"create database if not exists pulse\")"
   ]
  },
  {
   "cell_type": "code",
   "execution_count": null,
   "metadata": {},
   "outputs": [],
   "source": [
    "mycursor.execute(\"show databases\")\n",
    "\n",
    "out = mycursor.fetchall()\n",
    "print(tabulate(out, [i[0] for i in mycursor.description], tablefmt='psql'))"
   ]
  },
  {
   "cell_type": "code",
   "execution_count": null,
   "metadata": {},
   "outputs": [],
   "source": [
    "mycursor.execute(\"\"\"create table if not exists aggDataTrans (\n",
    "                 aggDataTransId int auto_increment primary key,quarter varchar(10), year int(10), \n",
    "                 state varchar(255), name varchar(255), type varchar(10), count int(255), amount float,\n",
    "                 timestamp datetime)\n",
    "                 \"\"\")"
   ]
  },
  {
   "cell_type": "code",
   "execution_count": null,
   "metadata": {},
   "outputs": [],
   "source": [
    "sql = (\"\"\"insert into aggDataTrans(aggDataTransId ,quarter ,year ,state ,name, type, count, amount, \n",
    "        timestamp) values(%s,%s,%s,%s,%s,%s,%s,%s,%s)\n",
    "        on duplicate key update\n",
    "        quarter = values(quarter), year = values(year), state = values(state), name = values(name), \n",
    "        type = values(type), count = values(count), amount = values(amount),\n",
    "        timestamp = values(timestamp)\"\"\")\n",
    "\n",
    "for i in dataTransaction.to_records().tolist():\n",
    "    mycursor.execute(sql,i)"
   ]
  },
  {
   "cell_type": "code",
   "execution_count": null,
   "metadata": {},
   "outputs": [],
   "source": [
    "db.commit()"
   ]
  },
  {
   "cell_type": "code",
   "execution_count": null,
   "metadata": {},
   "outputs": [],
   "source": [
    "mycursor.execute(\"select * from aggdatatrans limit 20\")\n",
    "\n",
    "out = mycursor.fetchall()\n",
    "print(tabulate(out, [i[0] for i in mycursor.description], tablefmt='psql'))"
   ]
  },
  {
   "cell_type": "code",
   "execution_count": null,
   "metadata": {},
   "outputs": [],
   "source": [
    "mycursor.execute(\"show tables\")\n",
    "\n",
    "out = mycursor.fetchall()\n",
    "print(tabulate(out, [i[0] for i in mycursor.description], tablefmt='psql'))"
   ]
  },
  {
   "cell_type": "markdown",
   "metadata": {},
   "source": [
    "# Aggregated Data Users"
   ]
  },
  {
   "cell_type": "code",
   "execution_count": null,
   "metadata": {},
   "outputs": [],
   "source": [
    "def Data_Users():\n",
    "    root_dir1 = Path(\"../data/aggregated/user/country/india/state\")\n",
    "\n",
    "    lis = []\n",
    "    for i in root_dir1.rglob(\"*.json\"):\n",
    "        # print(i)\n",
    "        with open(i, 'r') as file:\n",
    "            content = file.read()\n",
    "            dataset = json.loads(content)\n",
    "\n",
    "            state = i.parent.parent.name\n",
    "            year = i.parent.name\n",
    "            #  to get 1.josn,2.json,3.json and 4.json\n",
    "            quarter = i.stem\n",
    "            #  to convert 1.json to Q1, 2.json to Q2 etc.,\n",
    "            quarter = f'Q{quarter}'\n",
    "\n",
    "            lis.append({'quarter':quarter, 'year': year, 'state' : state, 'data': dataset})\n",
    "\n",
    "    # print(lis)\n",
    "\n",
    "    lis2 = []\n",
    "    for j in lis:\n",
    "        users_by_device = j['data']['data']['usersByDevice']\n",
    "        if users_by_device is None:\n",
    "            continue  # this will skip if there is no data\n",
    "        \n",
    "        for k in users_by_device:\n",
    "            # percentage format\n",
    "            percentage_value = k.get('percentage', None)\n",
    "            percentage_formated = f'{percentage_value: .2f}'\n",
    "\n",
    "            data = dict(\n",
    "                        quarter = j['quarter'],\n",
    "                        year = j['year'],\n",
    "                        state =j['state'],\n",
    "                        registeredUsers = j['data']['data']['aggregated'].get('registeredUsers', None),\n",
    "                        appOpens = j['data']['data']['aggregated'].get('appOpens', None),\n",
    "                        brand = k.get('brand', None),\n",
    "                        count = k.get('count', None),\n",
    "                        percentage = percentage_formated,\n",
    "                        timestamp = j['data']['responseTimestamp']\n",
    "                        )\n",
    "            lis2.append(data)\n",
    "\n",
    "    return lis2\n"
   ]
  },
  {
   "cell_type": "code",
   "execution_count": null,
   "metadata": {},
   "outputs": [],
   "source": [
    "DataUsers = pd.DataFrame(Data_Users())\n",
    "DataUsers['year'] = DataUsers['year'].astype(int)\n",
    "DataUsers['percentage'] = DataUsers['percentage'].astype(float)\n",
    "DataUsers['timestamp'] = pd.to_datetime(DataUsers['timestamp'], unit='ms')\n",
    "DataUsers['timestamp'] = DataUsers['timestamp'].dt.strftime(\"%Y-%m-%d %H:%M:%S\")\n",
    "DataUsers"
   ]
  },
  {
   "cell_type": "code",
   "execution_count": 119,
   "metadata": {},
   "outputs": [
    {
     "name": "stdout",
     "output_type": "stream",
     "text": [
      "<class 'pandas.core.frame.DataFrame'>\n",
      "RangeIndex: 6732 entries, 0 to 6731\n",
      "Data columns (total 9 columns):\n",
      " #   Column           Non-Null Count  Dtype  \n",
      "---  ------           --------------  -----  \n",
      " 0   quarter          6732 non-null   object \n",
      " 1   year             6732 non-null   int32  \n",
      " 2   state            6732 non-null   object \n",
      " 3   registeredUsers  6732 non-null   int64  \n",
      " 4   appOpens         6732 non-null   int64  \n",
      " 5   brand            6732 non-null   object \n",
      " 6   count            6732 non-null   int64  \n",
      " 7   percentage       6732 non-null   float64\n",
      " 8   timestamp        6732 non-null   object \n",
      "dtypes: float64(1), int32(1), int64(3), object(4)\n",
      "memory usage: 447.2+ KB\n"
     ]
    }
   ],
   "source": [
    "DataUsers.info()"
   ]
  },
  {
   "cell_type": "code",
   "execution_count": 122,
   "metadata": {},
   "outputs": [],
   "source": [
    "# mycursor.execute(\"drop table aggDataUsers\")"
   ]
  },
  {
   "cell_type": "code",
   "execution_count": 123,
   "metadata": {},
   "outputs": [],
   "source": [
    "mycursor.execute(\"\"\"create table if not exists aggDataUsers (\n",
    "                 aggDataUsersId int auto_increment primary key, quarter varchar(10), year int(10), \n",
    "                 state varchar(255), registeredUsers int(255), appOpens bigint, brand varchar(255),\n",
    "                 count int(255), percentage float, timestamp datetime)\"\"\")"
   ]
  },
  {
   "cell_type": "code",
   "execution_count": 124,
   "metadata": {},
   "outputs": [
    {
     "name": "stdout",
     "output_type": "stream",
     "text": [
      "+-------------------+\n",
      "| Tables_in_pulse   |\n",
      "|-------------------|\n",
      "| aggdatatrans      |\n",
      "| aggdatausers      |\n",
      "+-------------------+\n"
     ]
    }
   ],
   "source": [
    "mycursor.execute(\"show tables\")\n",
    "\n",
    "out = mycursor.fetchall()\n",
    "print(tabulate(out, [i[0] for i in mycursor.description], tablefmt='psql'))"
   ]
  },
  {
   "cell_type": "code",
   "execution_count": 125,
   "metadata": {},
   "outputs": [],
   "source": [
    "sql = (\"\"\"insert into aggdatausers (aggDataUsersId, quarter, year, state, registeredUsers, appOpens, brand\n",
    "       , count, percentage, timestamp) values(%s, %s, %s, %s, %s, %s, %s, %s, %s, %s)\n",
    "       on duplicate key update\n",
    "       quarter = values(quarter), year = values(year), state = values(state), \n",
    "       registeredUsers = values(registeredUsers), appOpens = values(appOpens), brand = values(brand),\n",
    "       count = values(count), percentage = values(percentage), timestamp = values(timestamp)\"\"\")\n",
    "\n",
    "for i in DataUsers.to_records().tolist():\n",
    "    mycursor.execute(sql,i)"
   ]
  },
  {
   "cell_type": "code",
   "execution_count": 126,
   "metadata": {},
   "outputs": [],
   "source": [
    "db.commit()"
   ]
  },
  {
   "cell_type": "code",
   "execution_count": 127,
   "metadata": {},
   "outputs": [
    {
     "name": "stdout",
     "output_type": "stream",
     "text": [
      "+------------------+-----------+--------+---------------------------+-------------------+------------+----------+---------+--------------+---------------------+\n",
      "|   aggDataUsersId | quarter   |   year | state                     |   registeredUsers |   appOpens | brand    |   count |   percentage | timestamp           |\n",
      "|------------------+-----------+--------+---------------------------+-------------------+------------+----------+---------+--------------+---------------------|\n",
      "|                1 | Q1        |   2018 | andaman-&-nicobar-islands |              6740 |          0 | Samsung  |    1445 |         0.21 | 2021-09-01 13:04:54 |\n",
      "|                2 | Q1        |   2018 | andaman-&-nicobar-islands |              6740 |          0 | Vivo     |     982 |         0.15 | 2021-09-01 13:04:54 |\n",
      "|                3 | Q1        |   2018 | andaman-&-nicobar-islands |              6740 |          0 | Oppo     |     501 |         0.07 | 2021-09-01 13:04:54 |\n",
      "|                4 | Q1        |   2018 | andaman-&-nicobar-islands |              6740 |          0 | OnePlus  |     332 |         0.05 | 2021-09-01 13:04:54 |\n",
      "|                5 | Q1        |   2018 | andaman-&-nicobar-islands |              6740 |          0 | Realme   |     316 |         0.05 | 2021-09-01 13:04:54 |\n",
      "|                6 | Q1        |   2018 | andaman-&-nicobar-islands |              6740 |          0 | Apple    |     229 |         0.03 | 2021-09-01 13:04:54 |\n",
      "|                7 | Q1        |   2018 | andaman-&-nicobar-islands |              6740 |          0 | Motorola |     226 |         0.03 | 2021-09-01 13:04:54 |\n",
      "|                8 | Q1        |   2018 | andaman-&-nicobar-islands |              6740 |          0 | Lenovo   |     202 |         0.03 | 2021-09-01 13:04:54 |\n",
      "|                9 | Q1        |   2018 | andaman-&-nicobar-islands |              6740 |          0 | Huawei   |     158 |         0.02 | 2021-09-01 13:04:54 |\n",
      "|               10 | Q1        |   2018 | andaman-&-nicobar-islands |              6740 |          0 | Others   |     684 |         0.1  | 2021-09-01 13:04:54 |\n",
      "+------------------+-----------+--------+---------------------------+-------------------+------------+----------+---------+--------------+---------------------+\n"
     ]
    }
   ],
   "source": [
    "mycursor.execute(\"select * from aggdatausers limit 10\")\n",
    "\n",
    "out = mycursor.fetchall()\n",
    "print(tabulate(out, [i[0] for i in mycursor.description], tablefmt='psql'))"
   ]
  },
  {
   "cell_type": "code",
   "execution_count": null,
   "metadata": {},
   "outputs": [],
   "source": []
  }
 ],
 "metadata": {
  "kernelspec": {
   "display_name": "Python 3",
   "language": "python",
   "name": "python3"
  },
  "language_info": {
   "codemirror_mode": {
    "name": "ipython",
    "version": 3
   },
   "file_extension": ".py",
   "mimetype": "text/x-python",
   "name": "python",
   "nbconvert_exporter": "python",
   "pygments_lexer": "ipython3",
   "version": "3.7.4"
  }
 },
 "nbformat": 4,
 "nbformat_minor": 2
}
