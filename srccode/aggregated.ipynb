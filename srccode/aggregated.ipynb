{
 "cells": [
  {
   "cell_type": "code",
   "execution_count": null,
   "metadata": {},
   "outputs": [],
   "source": [
    "from pathlib import Path\n",
    "import pandas as pd\n",
    "import json\n",
    "import datetime\n",
    "import numpy as np\n",
    "from tabulate import tabulate"
   ]
  },
  {
   "cell_type": "markdown",
   "metadata": {},
   "source": [
    "# Aggregated Data Transactions"
   ]
  },
  {
   "cell_type": "code",
   "execution_count": null,
   "metadata": {},
   "outputs": [],
   "source": [
    "def Data_Transactions():\n",
    "    root_dir = Path(\"../data/aggregated/transaction/country/india/state/\")\n",
    "    lis = []\n",
    "    # rglob is recursive glob - which means searching files recursiverly inside the files and folders\n",
    "    for i in root_dir.rglob(f\"*.json\"):\n",
    "        with open(i, 'r') as file:\n",
    "            content = file.read()\n",
    "            dataset = json.loads(content)\n",
    "\n",
    "            # i will have exact path from that <.parent> is going one step behind and <.name> is getting that subdirectory name\n",
    "            state_name = i.parent.parent.name\n",
    "            year = i.parent.name\n",
    "\n",
    "            # to get the filename 1.json,2.json, 3.json and 4.json \n",
    "            quarter = i.stem\n",
    "            # to change 1.json to Q1, 2.json to Q2 etc\n",
    "            quarter = f'Q{quarter}'\n",
    "\n",
    "            lis.append({'quarter':quarter,'year':year,'state':state_name,'data':dataset})\n",
    "\n",
    "    # print(lis)\n",
    "\n",
    "    lis2=[]\n",
    "    for j in lis:\n",
    "        \n",
    "        for k in j['data']['data']['transactionData']:\n",
    "            # I'm doing conversion rounding to two decimal point\n",
    "            amount_value = k['paymentInstruments'][0]['amount']\n",
    "            amount_formatted = f'{amount_value: .2f}'\n",
    "\n",
    "            timestamp_milliseconds = j['data']['responseTimestamp']\n",
    "            timestamp_seconds = timestamp_milliseconds /1000\n",
    "            datetime_obj = datetime.datetime.fromtimestamp(timestamp_seconds)\n",
    "            formatted_timestamp = datetime_obj.strftime('%Y-%m-%d %H:%M:%S')\n",
    "\n",
    "            \n",
    "            data = dict(quarter = j['quarter'],\n",
    "                        year = j['year'],\n",
    "                        state = j['state'],\n",
    "                        name = k['name'],\n",
    "                        type = k['paymentInstruments'][0]['type'],\n",
    "                        count = k['paymentInstruments'][0]['count'],\n",
    "                        amount = amount_formatted,\n",
    "                        timestamp = formatted_timestamp)\n",
    "            lis2.append(data)\n",
    "\n",
    "    return lis2\n",
    "    "
   ]
  },
  {
   "cell_type": "code",
   "execution_count": null,
   "metadata": {},
   "outputs": [],
   "source": [
    "dataTransaction = pd.DataFrame(Data_Transactions())\n",
    "dataTransaction['year'] = dataTransaction['year'].astype(int)\n",
    "dataTransaction['amount'] = dataTransaction['amount'].astype(float)\n",
    "# dataTransaction['country'] = 'India'\n",
    "dataTransaction.info()\n"
   ]
  },
  {
   "cell_type": "code",
   "execution_count": null,
   "metadata": {},
   "outputs": [],
   "source": [
    "import mysql.connector\n",
    "from tabulate import tabulate"
   ]
  },
  {
   "cell_type": "code",
   "execution_count": null,
   "metadata": {},
   "outputs": [],
   "source": [
    "def MyCursor():\n",
    "    # Database Connection\n",
    "    db = mysql.connector.connect(\n",
    "        host ='localhost',\n",
    "        user = 'root',\n",
    "        password ='balaji',\n",
    "        database = 'pulse'\n",
    "    )\n",
    "\n",
    "    mycursor = db.cursor(buffered=True)\n",
    "    mycursor\n",
    "    db.commit()\n",
    "\n",
    "    return db, mycursor"
   ]
  },
  {
   "cell_type": "code",
   "execution_count": null,
   "metadata": {},
   "outputs": [],
   "source": [
    "def aggDataTransTable():\n",
    "    db, mycursor = MyCursor()\n",
    "    mycursor.execute(\"create database if not exists pulse\")\n",
    "    mycursor.execute(\"show databases\")\n",
    "    # mycursor.execute(\"drop table aggDataTrans\")\n",
    "    mycursor.execute(\"\"\"create table if not exists aggDataTrans (\n",
    "                    aggDataTransId int auto_increment primary key,quarter varchar(10), year int(10), \n",
    "                    state varchar(255), name varchar(255), type varchar(10), count bigint, amount float,\n",
    "                    timestamp datetime)\n",
    "                    \"\"\")\n",
    "    sql = (\"\"\"insert into aggDataTrans(aggDataTransId ,quarter ,year ,state ,name, type, count, amount, \n",
    "            timestamp) values(%s,%s,%s,%s,%s,%s,%s,%s,%s)\n",
    "            on duplicate key update\n",
    "            quarter = values(quarter), year = values(year), state = values(state), name = values(name), \n",
    "            type = values(type), count = values(count), amount = values(amount),\n",
    "            timestamp = values(timestamp)\"\"\")\n",
    "\n",
    "    for i in dataTransaction.to_records().tolist():\n",
    "        mycursor.execute(sql,i)\n",
    "\n",
    "    db.commit()\n",
    "    mycursor.close()\n",
    "    db.close()\n",
    "    \n",
    "\n"
   ]
  },
  {
   "cell_type": "code",
   "execution_count": null,
   "metadata": {},
   "outputs": [],
   "source": [
    "aggDataTransTable()"
   ]
  },
  {
   "cell_type": "code",
   "execution_count": null,
   "metadata": {},
   "outputs": [],
   "source": [
    "import numpy as np"
   ]
  },
  {
   "cell_type": "code",
   "execution_count": null,
   "metadata": {},
   "outputs": [],
   "source": [
    "def aggDataTrans(QUARTER, YEAR):\n",
    "    db,mycursor = MyCursor()\n",
    "\n",
    "    mycursor.execute(\"\"\"select\n",
    "    quarter,\n",
    "    state,\n",
    "    year,\n",
    "    sum(count) as All_Transactions, \n",
    "    concat(round(sum(amount)/ 10000000)) as Total_Payment_Value,\n",
    "    round(sum(amount)/sum(count)) as Avg_Transactions_Value\n",
    "    from aggdatatrans\n",
    "    group by quarter, year, state;\"\"\")\n",
    "\n",
    "    out = mycursor.fetchall()\n",
    "    data = list(out)\n",
    "    columns = ['quarter', 'state', 'year', 'All_Transactions', 'Total_Payment_Value', 'Avg_Transactions_Value']\n",
    "\n",
    "    DataTransaction = pd.DataFrame(data, columns=columns)\n",
    "    DataTransaction = DataTransaction[(DataTransaction['quarter'] == QUARTER) & (DataTransaction['year'] == YEAR)]\n",
    "    DataTransaction['Total_Payment_Value'] = DataTransaction['Total_Payment_Value'].astype(int)\n",
    "    DataTransaction['All_Transactions'] = DataTransaction['All_Transactions'].astype(np.int64)\n",
    "\n",
    "\n",
    "    state_mapping = {\n",
    "    'andaman-&-nicobar-islands': 'Andaman & Nicobar',\n",
    "    'andhra-pradesh': 'Andhra Pradesh',\n",
    "    'arunachal-pradesh': 'Arunachal Pradesh',\n",
    "    'assam': 'Assam',\n",
    "    'bihar': 'Bihar',\n",
    "    'chandigarh': 'Chandigarh',\n",
    "    'chhattisgarh': 'Chhattisgarh',\n",
    "    'dadra-&-nagar-haveli-&-daman-&-diu': 'Dadra and Nagar Haveli and Daman and Diu',\n",
    "    'delhi': 'Delhi',\n",
    "    'goa': 'Goa',\n",
    "    'gujarat': 'Gujarat',\n",
    "    'haryana': 'Haryana',\n",
    "    'himachal-pradesh': 'Himachal Pradesh',\n",
    "    'jammu-&-kashmir': 'Jammu & Kashmir',\n",
    "    'jharkhand': 'Jharkhand',\n",
    "    'karnataka': 'Karnataka',\n",
    "    'kerala': 'Kerala',\n",
    "    'ladakh': 'Ladakh',\n",
    "    'lakshadweep': 'Lakshadweep',\n",
    "    'madhya-pradesh': 'Madhya Pradesh',\n",
    "    'maharashtra': 'Maharashtra',\n",
    "    'manipur': 'Manipur',\n",
    "    'meghalaya': 'Meghalaya',\n",
    "    'mizoram': 'Mizoram',\n",
    "    'nagaland': 'Nagaland',\n",
    "    'odisha': 'Odisha',\n",
    "    'puducherry': 'Puducherry',\n",
    "    'punjab': 'Punjab',\n",
    "    'rajasthan': 'Rajasthan',\n",
    "    'sikkim': 'Sikkim',\n",
    "    'tamil-nadu': 'Tamil Nadu',\n",
    "    'telangana': 'Telangana',\n",
    "    'tripura': 'Tripura',\n",
    "    'uttar-pradesh': 'Uttar Pradesh',\n",
    "    'uttarakhand': 'Uttarakhand',\n",
    "    'west-bengal': 'West Bengal'\n",
    "    }\n",
    "\n",
    "    # Use the map function to replace old values with new values\n",
    "    DataTransaction['state'] = DataTransaction['state'].map(state_mapping)\n",
    "\n",
    "    return DataTransaction"
   ]
  },
  {
   "cell_type": "code",
   "execution_count": null,
   "metadata": {},
   "outputs": [],
   "source": [
    "result = aggDataTrans('Q3', 2023)\n",
    "result.info()"
   ]
  },
  {
   "cell_type": "code",
   "execution_count": null,
   "metadata": {},
   "outputs": [],
   "source": [
    "import plotly.graph_objects as go\n"
   ]
  },
  {
   "cell_type": "code",
   "execution_count": null,
   "metadata": {},
   "outputs": [],
   "source": [
    "fig = go.Figure(data=go.Choropleth(\n",
    "    geojson=\"India.geojson\",\n",
    "    featureidkey='properties.ST_NM',\n",
    "    locationmode='geojson-id',\n",
    "    locations=result['state'],\n",
    "    customdata=result[['All_Transactions', 'Total_Payment_Value', 'Avg_Transactions_Value']],\n",
    "    z=result['Total_Payment_Value'],\n",
    "    hovertemplate=\"<b>%{location}</b><br>\" +\n",
    "                \"All Transactions: %{customdata[0]:,.0f}<br>\" +\n",
    "                \"Total Payment Value: %{customdata[1]:,.0f} Cr<br>\" +\n",
    "                \"Average Transactions Value: %{customdata[2]:,.0f}\",\n",
    "\n",
    "\n",
    "    autocolorscale=False,\n",
    "    colorscale='Reds',\n",
    "    marker_line_color='peachpuff',\n",
    "\n",
    "    colorbar=dict(\n",
    "        title={'text': \"Total_Payment_Value\"},\n",
    "\n",
    "        thickness=15,\n",
    "        len=0.35,\n",
    "        bgcolor='rgba(255,255,255,0.6)',\n",
    "\n",
    "        tick0=0,\n",
    "        dtick=20000,\n",
    "\n",
    "        xanchor='left',\n",
    "        x=0.01,\n",
    "        yanchor='bottom',\n",
    "        y=0.05\n",
    "    )\n",
    "))\n",
    "\n",
    "\n",
    "\n",
    "fig.update_geos(\n",
    "    visible=False,\n",
    "    projection=dict(\n",
    "        type='conic conformal',\n",
    "        parallels=[12.472944444, 35.172805555556],\n",
    "        rotation={'lat': 24, 'lon': 80}\n",
    "    ),\n",
    "    lonaxis={'range': [68, 98]},\n",
    "    lataxis={'range': [6, 38]}\n",
    ")\n",
    "\n",
    "fig.update_layout(\n",
    "    title=dict(\n",
    "        text=\"PhonePe\",\n",
    "        xanchor='center',\n",
    "        x=0.5,\n",
    "        yref='paper',\n",
    "        yanchor='bottom',\n",
    "        y=1,\n",
    "        pad={'b': 10}\n",
    "    ),\n",
    "    margin={'r': 0, 't': 30, 'l': 0, 'b': 0},\n",
    "    height=550,\n",
    "    width=550\n",
    ")\n",
    "\n",
    "fig.show()\n",
    "\n"
   ]
  },
  {
   "cell_type": "markdown",
   "metadata": {},
   "source": [
    "# Aggregated Data Users"
   ]
  },
  {
   "cell_type": "code",
   "execution_count": null,
   "metadata": {},
   "outputs": [],
   "source": [
    "import mysql.connector\n",
    "db = mysql.connector.connect(\n",
    "    host ='localhost',\n",
    "    user = 'root',\n",
    "    password ='balaji',\n",
    "    database = 'pulse'\n",
    ")\n",
    "\n",
    "mycursor = db.cursor(buffered=True)\n",
    "mycursor\n",
    "db.commit()"
   ]
  },
  {
   "cell_type": "code",
   "execution_count": null,
   "metadata": {},
   "outputs": [],
   "source": [
    "def AggData_Users():\n",
    "    root_dir1 = Path(\"../data/aggregated/user/country/india/state\")\n",
    "\n",
    "    lis = []\n",
    "    for i in root_dir1.rglob(\"*.json\"):\n",
    "        # print(i)\n",
    "        with open(i, 'r') as file:\n",
    "            content = file.read()\n",
    "            dataset = json.loads(content)\n",
    "\n",
    "            state = i.parent.parent.name\n",
    "            year = i.parent.name\n",
    "            #  to get 1.josn,2.json,3.json and 4.json\n",
    "            quarter = i.stem\n",
    "            #  to convert 1.json to Q1, 2.json to Q2 etc.,\n",
    "            quarter = f'Q{quarter}'\n",
    "\n",
    "            lis.append({'quarter':quarter, 'year': year, 'state' : state, 'data': dataset})\n",
    "\n",
    "    # print(lis)\n",
    "\n",
    "    lis2 = []\n",
    "    for j in lis:\n",
    "        data = {\n",
    "            'quarter': j['quarter'],\n",
    "            'year': j['year'],\n",
    "            'state': j['state'],\n",
    "            # 'timestamp': j['data'].get('responseTimestamp'),\n",
    "            'registeredUsers': j['data']['data']['aggregated'].get('registeredUsers', 'NaN'),\n",
    "            'appOpens': j['data']['data']['aggregated'].get('appOpens', 'NaN')\n",
    "            \n",
    "        }\n",
    "\n",
    "        # Check if 'usersByDevice' data is available\n",
    "        users_by_device = j['data']['data']['usersByDevice']\n",
    "        if users_by_device is not None:\n",
    "            for user_data in users_by_device:\n",
    "                brand = user_data.get('brand', 'NaN')\n",
    "                count = user_data.get('count', 'NaN')\n",
    "                percentage_value = user_data.get('percentage', None)\n",
    "                percentage_formated = f'{percentage_value: .2f}' if percentage_value is not None else '0'\n",
    "                lis2.append({\n",
    "                    **data,  # Include quarter, year, and state in the data\n",
    "                    'brand': brand,\n",
    "                    'count': count,\n",
    "                    'percentage': percentage_formated\n",
    "                    \n",
    "                })\n",
    "\n",
    "        # If 'usersByDevice' is missing or empty, add a row with 'NaN' for brand, count, and percentage\n",
    "        if not users_by_device:\n",
    "            lis2.append({\n",
    "                'quarter': data['quarter'],\n",
    "                'year': data['year'],\n",
    "                'state': data['state'],\n",
    "                'registeredUsers': data['registeredUsers'],\n",
    "                'appOpens': data['appOpens'],\n",
    "                'brand': '0',\n",
    "                'count': '0',\n",
    "                'percentage': '0'\n",
    "            })\n",
    "\n",
    "    return lis2\n"
   ]
  },
  {
   "cell_type": "code",
   "execution_count": null,
   "metadata": {},
   "outputs": [],
   "source": [
    "DataUsers = pd.DataFrame(AggData_Users())\n",
    "DataUsers['year'] = DataUsers['year'].astype(int)\n",
    "DataUsers['count'] = DataUsers['count'].astype(int)\n",
    "DataUsers['percentage'] = DataUsers['percentage'].astype(float)\n",
    "# DataUsers['timestamp'] = pd.to_datetime(DataUsers['timestamp'], unit='ms')\n",
    "# DataUsers['timestamp'] = DataUsers['timestamp'].dt.strftime(\"%Y-%m-%d %H:%M:%S\")\n",
    "Data_Users = DataUsers"
   ]
  },
  {
   "cell_type": "code",
   "execution_count": null,
   "metadata": {},
   "outputs": [],
   "source": [
    "def aggDataUsersTable():\n",
    "    db, mycursor = MyCursor()\n",
    "    mycursor.execute(\"\"\"create table if not exists aggDataUsers (\n",
    "                    aggDataUsersId int auto_increment primary key, quarter varchar(10), year int(10), \n",
    "                    state varchar(255), registeredUsers bigint, appOpens bigint,\n",
    "                    brand varchar(255), count bigint, percentage float)\"\"\")\n",
    "    \n",
    "    sql = (\"\"\"insert into aggdatausers (aggDataUsersId, quarter, year, state, registeredUsers, appOpens, \n",
    "       brand, count, percentage) values(%s, %s, %s, %s, %s, %s, %s, %s, %s)\n",
    "       on duplicate key update\n",
    "       quarter = values(quarter), year = values(year), state = values(state), \n",
    "       registeredUsers = values(registeredUsers), appOpens = values(appOpens), \n",
    "       brand = values(brand), count = values(count), percentage = values(percentage)\"\"\")\n",
    "\n",
    "    for i in Data_Users.to_records().tolist():\n",
    "        mycursor.execute(sql,i)\n",
    "\n",
    "    db.commit()\n",
    "    mycursor.close()\n",
    "    db.close()"
   ]
  },
  {
   "cell_type": "code",
   "execution_count": null,
   "metadata": {},
   "outputs": [],
   "source": [
    "aggDataUsersTable()"
   ]
  },
  {
   "cell_type": "code",
   "execution_count": null,
   "metadata": {},
   "outputs": [],
   "source": [
    "# mycursor.execute(\"describe aggDataUsers\")\n",
    "\n",
    "# out = mycursor.fetchall()\n",
    "# print(tabulate(out, [i[0] for i in mycursor.description], tablefmt='psql'))"
   ]
  },
  {
   "cell_type": "code",
   "execution_count": null,
   "metadata": {},
   "outputs": [],
   "source": [
    "def aggDataUsers(QUARTER, YEAR):\n",
    "    mycursor.execute(\"\"\"select quarter, year, state, registeredUsers, appOpens \n",
    "                    from aggdatausers  \n",
    "                    group by quarter,year,state;\"\"\")\n",
    "\n",
    "    out = mycursor.fetchall()\n",
    "    # print(tabulate(out, [i[0] for i in mycursor.description], tablefmt='psql'))\n",
    "\n",
    "    data = list(out)\n",
    "    columns = ['quarter', 'year', 'state', 'registeredUsers', 'appOpens']\n",
    "    UsersData = pd.DataFrame(data, columns= columns)\n",
    "    UsersData = UsersData[(UsersData['quarter']== QUARTER) & (UsersData['year'] == YEAR)]\n",
    "    # UsersData\n",
    "\n",
    "    with open(\"statesmapping.json\", 'r') as file:\n",
    "        state_mapping = json.load(file)\n",
    "\n",
    "    UsersData['state']= UsersData['state'].map(state_mapping)\n",
    "\n",
    "    return UsersData\n"
   ]
  },
  {
   "cell_type": "code",
   "execution_count": 51,
   "metadata": {},
   "outputs": [],
   "source": [
    "result = aggDataUsers('Q3', 2023)\n",
    "# result"
   ]
  },
  {
   "cell_type": "code",
   "execution_count": null,
   "metadata": {},
   "outputs": [],
   "source": [
    "import plotly.express as px"
   ]
  },
  {
   "cell_type": "code",
   "execution_count": 50,
   "metadata": {},
   "outputs": [
    {
     "data": {
      "application/vnd.plotly.v1+json": {
       "config": {
        "plotlyServerURL": "https://plot.ly"
       },
       "data": [
        {
         "coloraxis": "coloraxis",
         "customdata": [
          [
           92484,
           11012664
          ],
          [
           29065863,
           1442038420
          ],
          [
           408273,
           88997458
          ],
          [
           5499650,
           590176321
          ],
          [
           22796011,
           455886560
          ],
          [
           654522,
           2001065
          ],
          [
           7159660,
           678798431
          ],
          [
           524617,
           4471284
          ],
          [
           16480011,
           51049789
          ],
          [
           892185,
           22829931
          ],
          [
           23436230,
           918468944
          ],
          [
           15688161,
           264946266
          ],
          [
           2594668,
           111702044
          ],
          [
           1873039,
           134828711
          ],
          [
           8609107,
           585808867
          ],
          [
           37681426,
           2498025288
          ],
          [
           10822723,
           116395880
          ],
          [
           110991,
           14522495
          ],
          [
           7267,
           43821
          ],
          [
           24002818,
           2588256407
          ],
          [
           58470784,
           3144152925
          ],
          [
           498337,
           29419074
          ],
          [
           308324,
           44686919
          ],
          [
           138751,
           24403694
          ],
          [
           335936,
           35227154
          ],
          [
           14787083,
           929487633
          ],
          [
           543819,
           3498429
          ],
          [
           8837408,
           177418342
          ],
          [
           28523031,
           3711332541
          ],
          [
           252440,
           18927227
          ],
          [
           26270663,
           989061650
          ],
          [
           26804259,
           1305656447
          ],
          [
           710884,
           29736641
          ],
          [
           47806049,
           1401343916
          ],
          [
           4464369,
           181738693
          ],
          [
           26732895,
           321102681
          ]
         ],
         "featureidkey": "properties.ST_NM",
         "geo": "geo",
         "geojson": "https://gist.githubusercontent.com/jbrobst/56c13bbbf9d97d187fea01ca62ea5112/raw/e388c4cae20aa53cb5090210a42ebb9b765c0a36/india_states.geojson",
         "hovertemplate": "<b>%{location}</b><br>registeredUsers: %{customdata[0]:.0f}<br>appOpens: %{customdata[1]:.0f}",
         "hovertext": [
          20,
          43,
          66,
          89,
          112,
          135,
          158,
          181,
          204,
          227,
          250,
          273,
          296,
          319,
          342,
          365,
          388,
          411,
          434,
          457,
          480,
          503,
          526,
          549,
          572,
          595,
          618,
          641,
          664,
          687,
          710,
          733,
          756,
          779,
          802,
          825
         ],
         "locations": [
          "Andaman & Nicobar",
          "Andhra Pradesh",
          "Arunachal Pradesh",
          "Assam",
          "Bihar",
          "Chandigarh",
          "Chhattisgarh",
          "Dadra and Nagar Haveli and Daman and Diu",
          "Delhi",
          "Goa",
          "Gujarat",
          "Haryana",
          "Himachal Pradesh",
          "Jammu & Kashmir",
          "Jharkhand",
          "Karnataka",
          "Kerala",
          "Ladakh",
          "Lakshadweep",
          "Madhya Pradesh",
          "Maharashtra",
          "Manipur",
          "Meghalaya",
          "Mizoram",
          "Nagaland",
          "Odisha",
          "Puducherry",
          "Punjab",
          "Rajasthan",
          "Sikkim",
          "Tamil Nadu",
          "Telangana",
          "Tripura",
          "Uttar Pradesh",
          "Uttarakhand",
          "West Bengal"
         ],
         "name": "",
         "type": "choropleth",
         "z": [
          92484,
          29065863,
          408273,
          5499650,
          22796011,
          654522,
          7159660,
          524617,
          16480011,
          892185,
          23436230,
          15688161,
          2594668,
          1873039,
          8609107,
          37681426,
          10822723,
          110991,
          7267,
          24002818,
          58470784,
          498337,
          308324,
          138751,
          335936,
          14787083,
          543819,
          8837408,
          28523031,
          252440,
          26270663,
          26804259,
          710884,
          47806049,
          4464369,
          26732895
         ]
        }
       ],
       "layout": {
        "coloraxis": {
         "colorbar": {
          "title": {
           "text": "registeredUsers"
          }
         },
         "colorscale": [
          [
           0,
           "#440154"
          ],
          [
           0.1111111111111111,
           "#482878"
          ],
          [
           0.2222222222222222,
           "#3e4989"
          ],
          [
           0.3333333333333333,
           "#31688e"
          ],
          [
           0.4444444444444444,
           "#26828e"
          ],
          [
           0.5555555555555556,
           "#1f9e89"
          ],
          [
           0.6666666666666666,
           "#35b779"
          ],
          [
           0.7777777777777778,
           "#6ece58"
          ],
          [
           0.8888888888888888,
           "#b5de2b"
          ],
          [
           1,
           "#fde725"
          ]
         ]
        },
        "geo": {
         "center": {
          "lat": 20.5937,
          "lon": 78.9629
         },
         "domain": {
          "x": [
           0,
           1
          ],
          "y": [
           0,
           1
          ]
         },
         "fitbounds": "locations",
         "projection": {
          "scale": 5
         },
         "visible": false
        },
        "legend": {
         "tracegroupgap": 0
        },
        "margin": {
         "t": 60
        },
        "template": {
         "data": {
          "bar": [
           {
            "error_x": {
             "color": "#2a3f5f"
            },
            "error_y": {
             "color": "#2a3f5f"
            },
            "marker": {
             "line": {
              "color": "#E5ECF6",
              "width": 0.5
             },
             "pattern": {
              "fillmode": "overlay",
              "size": 10,
              "solidity": 0.2
             }
            },
            "type": "bar"
           }
          ],
          "barpolar": [
           {
            "marker": {
             "line": {
              "color": "#E5ECF6",
              "width": 0.5
             },
             "pattern": {
              "fillmode": "overlay",
              "size": 10,
              "solidity": 0.2
             }
            },
            "type": "barpolar"
           }
          ],
          "carpet": [
           {
            "aaxis": {
             "endlinecolor": "#2a3f5f",
             "gridcolor": "white",
             "linecolor": "white",
             "minorgridcolor": "white",
             "startlinecolor": "#2a3f5f"
            },
            "baxis": {
             "endlinecolor": "#2a3f5f",
             "gridcolor": "white",
             "linecolor": "white",
             "minorgridcolor": "white",
             "startlinecolor": "#2a3f5f"
            },
            "type": "carpet"
           }
          ],
          "choropleth": [
           {
            "colorbar": {
             "outlinewidth": 0,
             "ticks": ""
            },
            "type": "choropleth"
           }
          ],
          "contour": [
           {
            "colorbar": {
             "outlinewidth": 0,
             "ticks": ""
            },
            "colorscale": [
             [
              0,
              "#0d0887"
             ],
             [
              0.1111111111111111,
              "#46039f"
             ],
             [
              0.2222222222222222,
              "#7201a8"
             ],
             [
              0.3333333333333333,
              "#9c179e"
             ],
             [
              0.4444444444444444,
              "#bd3786"
             ],
             [
              0.5555555555555556,
              "#d8576b"
             ],
             [
              0.6666666666666666,
              "#ed7953"
             ],
             [
              0.7777777777777778,
              "#fb9f3a"
             ],
             [
              0.8888888888888888,
              "#fdca26"
             ],
             [
              1,
              "#f0f921"
             ]
            ],
            "type": "contour"
           }
          ],
          "contourcarpet": [
           {
            "colorbar": {
             "outlinewidth": 0,
             "ticks": ""
            },
            "type": "contourcarpet"
           }
          ],
          "heatmap": [
           {
            "colorbar": {
             "outlinewidth": 0,
             "ticks": ""
            },
            "colorscale": [
             [
              0,
              "#0d0887"
             ],
             [
              0.1111111111111111,
              "#46039f"
             ],
             [
              0.2222222222222222,
              "#7201a8"
             ],
             [
              0.3333333333333333,
              "#9c179e"
             ],
             [
              0.4444444444444444,
              "#bd3786"
             ],
             [
              0.5555555555555556,
              "#d8576b"
             ],
             [
              0.6666666666666666,
              "#ed7953"
             ],
             [
              0.7777777777777778,
              "#fb9f3a"
             ],
             [
              0.8888888888888888,
              "#fdca26"
             ],
             [
              1,
              "#f0f921"
             ]
            ],
            "type": "heatmap"
           }
          ],
          "heatmapgl": [
           {
            "colorbar": {
             "outlinewidth": 0,
             "ticks": ""
            },
            "colorscale": [
             [
              0,
              "#0d0887"
             ],
             [
              0.1111111111111111,
              "#46039f"
             ],
             [
              0.2222222222222222,
              "#7201a8"
             ],
             [
              0.3333333333333333,
              "#9c179e"
             ],
             [
              0.4444444444444444,
              "#bd3786"
             ],
             [
              0.5555555555555556,
              "#d8576b"
             ],
             [
              0.6666666666666666,
              "#ed7953"
             ],
             [
              0.7777777777777778,
              "#fb9f3a"
             ],
             [
              0.8888888888888888,
              "#fdca26"
             ],
             [
              1,
              "#f0f921"
             ]
            ],
            "type": "heatmapgl"
           }
          ],
          "histogram": [
           {
            "marker": {
             "pattern": {
              "fillmode": "overlay",
              "size": 10,
              "solidity": 0.2
             }
            },
            "type": "histogram"
           }
          ],
          "histogram2d": [
           {
            "colorbar": {
             "outlinewidth": 0,
             "ticks": ""
            },
            "colorscale": [
             [
              0,
              "#0d0887"
             ],
             [
              0.1111111111111111,
              "#46039f"
             ],
             [
              0.2222222222222222,
              "#7201a8"
             ],
             [
              0.3333333333333333,
              "#9c179e"
             ],
             [
              0.4444444444444444,
              "#bd3786"
             ],
             [
              0.5555555555555556,
              "#d8576b"
             ],
             [
              0.6666666666666666,
              "#ed7953"
             ],
             [
              0.7777777777777778,
              "#fb9f3a"
             ],
             [
              0.8888888888888888,
              "#fdca26"
             ],
             [
              1,
              "#f0f921"
             ]
            ],
            "type": "histogram2d"
           }
          ],
          "histogram2dcontour": [
           {
            "colorbar": {
             "outlinewidth": 0,
             "ticks": ""
            },
            "colorscale": [
             [
              0,
              "#0d0887"
             ],
             [
              0.1111111111111111,
              "#46039f"
             ],
             [
              0.2222222222222222,
              "#7201a8"
             ],
             [
              0.3333333333333333,
              "#9c179e"
             ],
             [
              0.4444444444444444,
              "#bd3786"
             ],
             [
              0.5555555555555556,
              "#d8576b"
             ],
             [
              0.6666666666666666,
              "#ed7953"
             ],
             [
              0.7777777777777778,
              "#fb9f3a"
             ],
             [
              0.8888888888888888,
              "#fdca26"
             ],
             [
              1,
              "#f0f921"
             ]
            ],
            "type": "histogram2dcontour"
           }
          ],
          "mesh3d": [
           {
            "colorbar": {
             "outlinewidth": 0,
             "ticks": ""
            },
            "type": "mesh3d"
           }
          ],
          "parcoords": [
           {
            "line": {
             "colorbar": {
              "outlinewidth": 0,
              "ticks": ""
             }
            },
            "type": "parcoords"
           }
          ],
          "pie": [
           {
            "automargin": true,
            "type": "pie"
           }
          ],
          "scatter": [
           {
            "fillpattern": {
             "fillmode": "overlay",
             "size": 10,
             "solidity": 0.2
            },
            "type": "scatter"
           }
          ],
          "scatter3d": [
           {
            "line": {
             "colorbar": {
              "outlinewidth": 0,
              "ticks": ""
             }
            },
            "marker": {
             "colorbar": {
              "outlinewidth": 0,
              "ticks": ""
             }
            },
            "type": "scatter3d"
           }
          ],
          "scattercarpet": [
           {
            "marker": {
             "colorbar": {
              "outlinewidth": 0,
              "ticks": ""
             }
            },
            "type": "scattercarpet"
           }
          ],
          "scattergeo": [
           {
            "marker": {
             "colorbar": {
              "outlinewidth": 0,
              "ticks": ""
             }
            },
            "type": "scattergeo"
           }
          ],
          "scattergl": [
           {
            "marker": {
             "colorbar": {
              "outlinewidth": 0,
              "ticks": ""
             }
            },
            "type": "scattergl"
           }
          ],
          "scattermapbox": [
           {
            "marker": {
             "colorbar": {
              "outlinewidth": 0,
              "ticks": ""
             }
            },
            "type": "scattermapbox"
           }
          ],
          "scatterpolar": [
           {
            "marker": {
             "colorbar": {
              "outlinewidth": 0,
              "ticks": ""
             }
            },
            "type": "scatterpolar"
           }
          ],
          "scatterpolargl": [
           {
            "marker": {
             "colorbar": {
              "outlinewidth": 0,
              "ticks": ""
             }
            },
            "type": "scatterpolargl"
           }
          ],
          "scatterternary": [
           {
            "marker": {
             "colorbar": {
              "outlinewidth": 0,
              "ticks": ""
             }
            },
            "type": "scatterternary"
           }
          ],
          "surface": [
           {
            "colorbar": {
             "outlinewidth": 0,
             "ticks": ""
            },
            "colorscale": [
             [
              0,
              "#0d0887"
             ],
             [
              0.1111111111111111,
              "#46039f"
             ],
             [
              0.2222222222222222,
              "#7201a8"
             ],
             [
              0.3333333333333333,
              "#9c179e"
             ],
             [
              0.4444444444444444,
              "#bd3786"
             ],
             [
              0.5555555555555556,
              "#d8576b"
             ],
             [
              0.6666666666666666,
              "#ed7953"
             ],
             [
              0.7777777777777778,
              "#fb9f3a"
             ],
             [
              0.8888888888888888,
              "#fdca26"
             ],
             [
              1,
              "#f0f921"
             ]
            ],
            "type": "surface"
           }
          ],
          "table": [
           {
            "cells": {
             "fill": {
              "color": "#EBF0F8"
             },
             "line": {
              "color": "white"
             }
            },
            "header": {
             "fill": {
              "color": "#C8D4E3"
             },
             "line": {
              "color": "white"
             }
            },
            "type": "table"
           }
          ]
         },
         "layout": {
          "annotationdefaults": {
           "arrowcolor": "#2a3f5f",
           "arrowhead": 0,
           "arrowwidth": 1
          },
          "autotypenumbers": "strict",
          "coloraxis": {
           "colorbar": {
            "outlinewidth": 0,
            "ticks": ""
           }
          },
          "colorscale": {
           "diverging": [
            [
             0,
             "#8e0152"
            ],
            [
             0.1,
             "#c51b7d"
            ],
            [
             0.2,
             "#de77ae"
            ],
            [
             0.3,
             "#f1b6da"
            ],
            [
             0.4,
             "#fde0ef"
            ],
            [
             0.5,
             "#f7f7f7"
            ],
            [
             0.6,
             "#e6f5d0"
            ],
            [
             0.7,
             "#b8e186"
            ],
            [
             0.8,
             "#7fbc41"
            ],
            [
             0.9,
             "#4d9221"
            ],
            [
             1,
             "#276419"
            ]
           ],
           "sequential": [
            [
             0,
             "#0d0887"
            ],
            [
             0.1111111111111111,
             "#46039f"
            ],
            [
             0.2222222222222222,
             "#7201a8"
            ],
            [
             0.3333333333333333,
             "#9c179e"
            ],
            [
             0.4444444444444444,
             "#bd3786"
            ],
            [
             0.5555555555555556,
             "#d8576b"
            ],
            [
             0.6666666666666666,
             "#ed7953"
            ],
            [
             0.7777777777777778,
             "#fb9f3a"
            ],
            [
             0.8888888888888888,
             "#fdca26"
            ],
            [
             1,
             "#f0f921"
            ]
           ],
           "sequentialminus": [
            [
             0,
             "#0d0887"
            ],
            [
             0.1111111111111111,
             "#46039f"
            ],
            [
             0.2222222222222222,
             "#7201a8"
            ],
            [
             0.3333333333333333,
             "#9c179e"
            ],
            [
             0.4444444444444444,
             "#bd3786"
            ],
            [
             0.5555555555555556,
             "#d8576b"
            ],
            [
             0.6666666666666666,
             "#ed7953"
            ],
            [
             0.7777777777777778,
             "#fb9f3a"
            ],
            [
             0.8888888888888888,
             "#fdca26"
            ],
            [
             1,
             "#f0f921"
            ]
           ]
          },
          "colorway": [
           "#636efa",
           "#EF553B",
           "#00cc96",
           "#ab63fa",
           "#FFA15A",
           "#19d3f3",
           "#FF6692",
           "#B6E880",
           "#FF97FF",
           "#FECB52"
          ],
          "font": {
           "color": "#2a3f5f"
          },
          "geo": {
           "bgcolor": "white",
           "lakecolor": "white",
           "landcolor": "#E5ECF6",
           "showlakes": true,
           "showland": true,
           "subunitcolor": "white"
          },
          "hoverlabel": {
           "align": "left"
          },
          "hovermode": "closest",
          "mapbox": {
           "style": "light"
          },
          "paper_bgcolor": "white",
          "plot_bgcolor": "#E5ECF6",
          "polar": {
           "angularaxis": {
            "gridcolor": "white",
            "linecolor": "white",
            "ticks": ""
           },
           "bgcolor": "#E5ECF6",
           "radialaxis": {
            "gridcolor": "white",
            "linecolor": "white",
            "ticks": ""
           }
          },
          "scene": {
           "xaxis": {
            "backgroundcolor": "#E5ECF6",
            "gridcolor": "white",
            "gridwidth": 2,
            "linecolor": "white",
            "showbackground": true,
            "ticks": "",
            "zerolinecolor": "white"
           },
           "yaxis": {
            "backgroundcolor": "#E5ECF6",
            "gridcolor": "white",
            "gridwidth": 2,
            "linecolor": "white",
            "showbackground": true,
            "ticks": "",
            "zerolinecolor": "white"
           },
           "zaxis": {
            "backgroundcolor": "#E5ECF6",
            "gridcolor": "white",
            "gridwidth": 2,
            "linecolor": "white",
            "showbackground": true,
            "ticks": "",
            "zerolinecolor": "white"
           }
          },
          "shapedefaults": {
           "line": {
            "color": "#2a3f5f"
           }
          },
          "ternary": {
           "aaxis": {
            "gridcolor": "white",
            "linecolor": "white",
            "ticks": ""
           },
           "baxis": {
            "gridcolor": "white",
            "linecolor": "white",
            "ticks": ""
           },
           "bgcolor": "#E5ECF6",
           "caxis": {
            "gridcolor": "white",
            "linecolor": "white",
            "ticks": ""
           }
          },
          "title": {
           "x": 0.05
          },
          "xaxis": {
           "automargin": true,
           "gridcolor": "white",
           "linecolor": "white",
           "ticks": "",
           "title": {
            "standoff": 15
           },
           "zerolinecolor": "white",
           "zerolinewidth": 2
          },
          "yaxis": {
           "automargin": true,
           "gridcolor": "white",
           "linecolor": "white",
           "ticks": "",
           "title": {
            "standoff": 15
           },
           "zerolinecolor": "white",
           "zerolinewidth": 2
          }
         }
        }
       }
      }
     },
     "metadata": {},
     "output_type": "display_data"
    }
   ],
   "source": [
    "\n",
    "# Create a custom hover template to display the desired columns\n",
    "hover_template = \"<b>%{location}</b><br>\" + \\\n",
    "                \"registeredUsers: %{customdata[0]:.0f}<br>\" + \\\n",
    "                \"appOpens: %{customdata[1]:.0f}\"\n",
    "\n",
    "fig = px.choropleth(\n",
    "    result,\n",
    "    geojson=\"https://gist.githubusercontent.com/jbrobst/56c13bbbf9d97d187fea01ca62ea5112/raw/e388c4cae20aa53cb5090210a42ebb9b765c0a36/india_states.geojson\",\n",
    "    featureidkey='properties.ST_NM',\n",
    "    locations='state',\n",
    "    color='registeredUsers',\n",
    "    custom_data=['registeredUsers','appOpens'],\n",
    "    hover_name= result.index,\n",
    "    color_continuous_scale='Viridis',\n",
    "\n",
    ")\n",
    "\n",
    "# Set the hover template\n",
    "fig.update_traces(\n",
    "    hovertemplate=hover_template\n",
    ")\n",
    "\n",
    "fig.update_geos(fitbounds=\"locations\", visible=False)\n",
    "\n",
    "fig.update_layout(geo=dict(\n",
    "    center={'lon': 78.9629, 'lat': 20.5937},\n",
    "    projection_scale=5))\n",
    "fig.show()"
   ]
  },
  {
   "cell_type": "code",
   "execution_count": null,
   "metadata": {},
   "outputs": [],
   "source": []
  },
  {
   "cell_type": "code",
   "execution_count": null,
   "metadata": {},
   "outputs": [],
   "source": []
  },
  {
   "cell_type": "code",
   "execution_count": null,
   "metadata": {},
   "outputs": [],
   "source": []
  },
  {
   "cell_type": "code",
   "execution_count": null,
   "metadata": {},
   "outputs": [],
   "source": []
  },
  {
   "cell_type": "code",
   "execution_count": null,
   "metadata": {},
   "outputs": [],
   "source": []
  },
  {
   "cell_type": "code",
   "execution_count": null,
   "metadata": {},
   "outputs": [],
   "source": []
  }
 ],
 "metadata": {
  "kernelspec": {
   "display_name": "Python 3",
   "language": "python",
   "name": "python3"
  },
  "language_info": {
   "codemirror_mode": {
    "name": "ipython",
    "version": 3
   },
   "file_extension": ".py",
   "mimetype": "text/x-python",
   "name": "python",
   "nbconvert_exporter": "python",
   "pygments_lexer": "ipython3",
   "version": "3.7.4"
  }
 },
 "nbformat": 4,
 "nbformat_minor": 2
}
